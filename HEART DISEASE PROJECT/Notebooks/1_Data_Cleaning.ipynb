{
 "cells": [
  {
   "cell_type": "markdown",
   "metadata": {},
   "source": [
    "# HEART DISEASE PROJECT DATASET"
   ]
  },
  {
   "cell_type": "code",
   "execution_count": 31,
   "metadata": {},
   "outputs": [],
   "source": [
    "### Import Libraries\n",
    "\n",
    "import pandas as pd \n",
    "import numpy as np \n",
    "import matplotlib.pyplot as plt \n",
    "import seaborn as sns "
   ]
  },
  {
   "cell_type": "code",
   "execution_count": 32,
   "metadata": {},
   "outputs": [
    {
     "data": {
      "text/html": [
       "<div>\n",
       "<style scoped>\n",
       "    .dataframe tbody tr th:only-of-type {\n",
       "        vertical-align: middle;\n",
       "    }\n",
       "\n",
       "    .dataframe tbody tr th {\n",
       "        vertical-align: top;\n",
       "    }\n",
       "\n",
       "    .dataframe thead th {\n",
       "        text-align: right;\n",
       "    }\n",
       "</style>\n",
       "<table border=\"1\" class=\"dataframe\">\n",
       "  <thead>\n",
       "    <tr style=\"text-align: right;\">\n",
       "      <th></th>\n",
       "      <th>age</th>\n",
       "      <th>sex</th>\n",
       "      <th>cp</th>\n",
       "      <th>trestbps</th>\n",
       "      <th>chol</th>\n",
       "      <th>fbs</th>\n",
       "      <th>restecg</th>\n",
       "      <th>thalach</th>\n",
       "      <th>exang</th>\n",
       "      <th>oldpeak</th>\n",
       "      <th>slope</th>\n",
       "      <th>ca</th>\n",
       "      <th>thal</th>\n",
       "      <th>target</th>\n",
       "    </tr>\n",
       "  </thead>\n",
       "  <tbody>\n",
       "    <tr>\n",
       "      <th>0</th>\n",
       "      <td>52</td>\n",
       "      <td>1</td>\n",
       "      <td>0</td>\n",
       "      <td>125</td>\n",
       "      <td>212</td>\n",
       "      <td>0</td>\n",
       "      <td>1</td>\n",
       "      <td>168</td>\n",
       "      <td>0</td>\n",
       "      <td>1.0</td>\n",
       "      <td>2</td>\n",
       "      <td>2</td>\n",
       "      <td>3</td>\n",
       "      <td>0</td>\n",
       "    </tr>\n",
       "    <tr>\n",
       "      <th>1</th>\n",
       "      <td>53</td>\n",
       "      <td>1</td>\n",
       "      <td>0</td>\n",
       "      <td>140</td>\n",
       "      <td>203</td>\n",
       "      <td>1</td>\n",
       "      <td>0</td>\n",
       "      <td>155</td>\n",
       "      <td>1</td>\n",
       "      <td>3.1</td>\n",
       "      <td>0</td>\n",
       "      <td>0</td>\n",
       "      <td>3</td>\n",
       "      <td>0</td>\n",
       "    </tr>\n",
       "    <tr>\n",
       "      <th>2</th>\n",
       "      <td>70</td>\n",
       "      <td>1</td>\n",
       "      <td>0</td>\n",
       "      <td>145</td>\n",
       "      <td>174</td>\n",
       "      <td>0</td>\n",
       "      <td>1</td>\n",
       "      <td>125</td>\n",
       "      <td>1</td>\n",
       "      <td>2.6</td>\n",
       "      <td>0</td>\n",
       "      <td>0</td>\n",
       "      <td>3</td>\n",
       "      <td>0</td>\n",
       "    </tr>\n",
       "    <tr>\n",
       "      <th>3</th>\n",
       "      <td>61</td>\n",
       "      <td>1</td>\n",
       "      <td>0</td>\n",
       "      <td>148</td>\n",
       "      <td>203</td>\n",
       "      <td>0</td>\n",
       "      <td>1</td>\n",
       "      <td>161</td>\n",
       "      <td>0</td>\n",
       "      <td>0.0</td>\n",
       "      <td>2</td>\n",
       "      <td>1</td>\n",
       "      <td>3</td>\n",
       "      <td>0</td>\n",
       "    </tr>\n",
       "    <tr>\n",
       "      <th>4</th>\n",
       "      <td>62</td>\n",
       "      <td>0</td>\n",
       "      <td>0</td>\n",
       "      <td>138</td>\n",
       "      <td>294</td>\n",
       "      <td>1</td>\n",
       "      <td>1</td>\n",
       "      <td>106</td>\n",
       "      <td>0</td>\n",
       "      <td>1.9</td>\n",
       "      <td>1</td>\n",
       "      <td>3</td>\n",
       "      <td>2</td>\n",
       "      <td>0</td>\n",
       "    </tr>\n",
       "  </tbody>\n",
       "</table>\n",
       "</div>"
      ],
      "text/plain": [
       "   age  sex  cp  trestbps  chol  fbs  restecg  thalach  exang  oldpeak  slope  \\\n",
       "0   52    1   0       125   212    0        1      168      0      1.0      2   \n",
       "1   53    1   0       140   203    1        0      155      1      3.1      0   \n",
       "2   70    1   0       145   174    0        1      125      1      2.6      0   \n",
       "3   61    1   0       148   203    0        1      161      0      0.0      2   \n",
       "4   62    0   0       138   294    1        1      106      0      1.9      1   \n",
       "\n",
       "   ca  thal  target  \n",
       "0   2     3       0  \n",
       "1   0     3       0  \n",
       "2   0     3       0  \n",
       "3   1     3       0  \n",
       "4   3     2       0  "
      ]
     },
     "execution_count": 32,
     "metadata": {},
     "output_type": "execute_result"
    }
   ],
   "source": [
    "### Import Dataset\n",
    "\n",
    "Data = pd.read_csv('/Users/inazawaelectronics/Desktop/Data-Analyst-Intern-Project/HEART DISEASE PROJECT/Data/Heart Disease data.csv')\n",
    "Data.head()"
   ]
  },
  {
   "cell_type": "markdown",
   "metadata": {},
   "source": [
    "### Attribute Information:\n",
    "\n",
    "1. age\n",
    "2. sex\n",
    "3. chest pain type (4 values)\n",
    "4. resting blood pressure\n",
    "5. serum cholestoral in mg/dl\n",
    "6. fasting blood sugar > 120 mg/dl\n",
    "7. resting electrocardiographic results (values 0,1,2)\n",
    "8. maximum heart rate achieved\n",
    "9. exercise induced angina\n",
    "10. oldpeak = ST depression induced by exercise relative to rest\n",
    "11. the slope of the peak exercise ST segment\n",
    "12. number of major vessels (0-3) colored by flourosopy\n",
    "13. thal: 0 = normal; 1 = fixed defect; 2 = reversable defect"
   ]
  },
  {
   "cell_type": "code",
   "execution_count": 33,
   "metadata": {},
   "outputs": [
    {
     "data": {
      "text/plain": [
       "Index(['age', 'sex', 'cp', 'trestbps', 'chol', 'fbs', 'restecg', 'thalach',\n",
       "       'exang', 'oldpeak', 'slope', 'ca', 'thal', 'target'],\n",
       "      dtype='object')"
      ]
     },
     "execution_count": 33,
     "metadata": {},
     "output_type": "execute_result"
    }
   ],
   "source": [
    "Data.columns"
   ]
  },
  {
   "cell_type": "code",
   "execution_count": 34,
   "metadata": {},
   "outputs": [],
   "source": [
    "### Rearange Feature Names\n",
    "\n",
    "Data = Data.rename(\n",
    "    columns = {'cp':'chest_pain_type', \n",
    "               'trestbps':'resting_blood_pressure', \n",
    "               'chol': 'cholesterol',\n",
    "               'fbs': 'fasting_blood_sugar',\n",
    "               'restecg' : 'resting_electrocardiogram', \n",
    "               'thalach': 'max_heart_rate_achieved', \n",
    "               'exang': 'exercise_induced_angina',\n",
    "               'oldpeak': 'st_depression', \n",
    "               'slope': 'st_slope', \n",
    "               'ca':'num_major_vessels', \n",
    "               'thal': 'thalassemia'}, \n",
    "    errors=\"raise\")"
   ]
  },
  {
   "cell_type": "code",
   "execution_count": 35,
   "metadata": {},
   "outputs": [
    {
     "data": {
      "text/html": [
       "<div>\n",
       "<style scoped>\n",
       "    .dataframe tbody tr th:only-of-type {\n",
       "        vertical-align: middle;\n",
       "    }\n",
       "\n",
       "    .dataframe tbody tr th {\n",
       "        vertical-align: top;\n",
       "    }\n",
       "\n",
       "    .dataframe thead th {\n",
       "        text-align: right;\n",
       "    }\n",
       "</style>\n",
       "<table border=\"1\" class=\"dataframe\">\n",
       "  <thead>\n",
       "    <tr style=\"text-align: right;\">\n",
       "      <th></th>\n",
       "      <th>age</th>\n",
       "      <th>sex</th>\n",
       "      <th>chest_pain_type</th>\n",
       "      <th>resting_blood_pressure</th>\n",
       "      <th>cholesterol</th>\n",
       "      <th>fasting_blood_sugar</th>\n",
       "      <th>resting_electrocardiogram</th>\n",
       "      <th>max_heart_rate_achieved</th>\n",
       "      <th>exercise_induced_angina</th>\n",
       "      <th>st_depression</th>\n",
       "      <th>st_slope</th>\n",
       "      <th>num_major_vessels</th>\n",
       "      <th>thalassemia</th>\n",
       "      <th>target</th>\n",
       "    </tr>\n",
       "  </thead>\n",
       "  <tbody>\n",
       "    <tr>\n",
       "      <th>0</th>\n",
       "      <td>52</td>\n",
       "      <td>1</td>\n",
       "      <td>0</td>\n",
       "      <td>125</td>\n",
       "      <td>212</td>\n",
       "      <td>0</td>\n",
       "      <td>1</td>\n",
       "      <td>168</td>\n",
       "      <td>0</td>\n",
       "      <td>1.0</td>\n",
       "      <td>2</td>\n",
       "      <td>2</td>\n",
       "      <td>3</td>\n",
       "      <td>0</td>\n",
       "    </tr>\n",
       "    <tr>\n",
       "      <th>1</th>\n",
       "      <td>53</td>\n",
       "      <td>1</td>\n",
       "      <td>0</td>\n",
       "      <td>140</td>\n",
       "      <td>203</td>\n",
       "      <td>1</td>\n",
       "      <td>0</td>\n",
       "      <td>155</td>\n",
       "      <td>1</td>\n",
       "      <td>3.1</td>\n",
       "      <td>0</td>\n",
       "      <td>0</td>\n",
       "      <td>3</td>\n",
       "      <td>0</td>\n",
       "    </tr>\n",
       "    <tr>\n",
       "      <th>2</th>\n",
       "      <td>70</td>\n",
       "      <td>1</td>\n",
       "      <td>0</td>\n",
       "      <td>145</td>\n",
       "      <td>174</td>\n",
       "      <td>0</td>\n",
       "      <td>1</td>\n",
       "      <td>125</td>\n",
       "      <td>1</td>\n",
       "      <td>2.6</td>\n",
       "      <td>0</td>\n",
       "      <td>0</td>\n",
       "      <td>3</td>\n",
       "      <td>0</td>\n",
       "    </tr>\n",
       "    <tr>\n",
       "      <th>3</th>\n",
       "      <td>61</td>\n",
       "      <td>1</td>\n",
       "      <td>0</td>\n",
       "      <td>148</td>\n",
       "      <td>203</td>\n",
       "      <td>0</td>\n",
       "      <td>1</td>\n",
       "      <td>161</td>\n",
       "      <td>0</td>\n",
       "      <td>0.0</td>\n",
       "      <td>2</td>\n",
       "      <td>1</td>\n",
       "      <td>3</td>\n",
       "      <td>0</td>\n",
       "    </tr>\n",
       "    <tr>\n",
       "      <th>4</th>\n",
       "      <td>62</td>\n",
       "      <td>0</td>\n",
       "      <td>0</td>\n",
       "      <td>138</td>\n",
       "      <td>294</td>\n",
       "      <td>1</td>\n",
       "      <td>1</td>\n",
       "      <td>106</td>\n",
       "      <td>0</td>\n",
       "      <td>1.9</td>\n",
       "      <td>1</td>\n",
       "      <td>3</td>\n",
       "      <td>2</td>\n",
       "      <td>0</td>\n",
       "    </tr>\n",
       "  </tbody>\n",
       "</table>\n",
       "</div>"
      ],
      "text/plain": [
       "   age  sex  chest_pain_type  resting_blood_pressure  cholesterol  \\\n",
       "0   52    1                0                     125          212   \n",
       "1   53    1                0                     140          203   \n",
       "2   70    1                0                     145          174   \n",
       "3   61    1                0                     148          203   \n",
       "4   62    0                0                     138          294   \n",
       "\n",
       "   fasting_blood_sugar  resting_electrocardiogram  max_heart_rate_achieved  \\\n",
       "0                    0                          1                      168   \n",
       "1                    1                          0                      155   \n",
       "2                    0                          1                      125   \n",
       "3                    0                          1                      161   \n",
       "4                    1                          1                      106   \n",
       "\n",
       "   exercise_induced_angina  st_depression  st_slope  num_major_vessels  \\\n",
       "0                        0            1.0         2                  2   \n",
       "1                        1            3.1         0                  0   \n",
       "2                        1            2.6         0                  0   \n",
       "3                        0            0.0         2                  1   \n",
       "4                        0            1.9         1                  3   \n",
       "\n",
       "   thalassemia  target  \n",
       "0            3       0  \n",
       "1            3       0  \n",
       "2            3       0  \n",
       "3            3       0  \n",
       "4            2       0  "
      ]
     },
     "execution_count": 35,
     "metadata": {},
     "output_type": "execute_result"
    }
   ],
   "source": [
    "Data.head()"
   ]
  },
  {
   "cell_type": "code",
   "execution_count": 36,
   "metadata": {},
   "outputs": [],
   "source": [
    "Data = Data[Data['target'] == 1]"
   ]
  },
  {
   "cell_type": "code",
   "execution_count": 37,
   "metadata": {},
   "outputs": [
    {
     "data": {
      "text/plain": [
       "(526, 14)"
      ]
     },
     "execution_count": 37,
     "metadata": {},
     "output_type": "execute_result"
    }
   ],
   "source": [
    "### See Total rows and columns in dataset\n",
    "\n",
    "Data.shape"
   ]
  },
  {
   "cell_type": "code",
   "execution_count": 38,
   "metadata": {},
   "outputs": [
    {
     "data": {
      "text/plain": [
       "362"
      ]
     },
     "execution_count": 38,
     "metadata": {},
     "output_type": "execute_result"
    }
   ],
   "source": [
    "### Is there any duplicated rows in this dataset find that count\n",
    "\n",
    "Data.duplicated().sum()"
   ]
  },
  {
   "cell_type": "code",
   "execution_count": 39,
   "metadata": {},
   "outputs": [],
   "source": [
    "### Remove Duplicate rows\n",
    "Data.drop_duplicates(inplace= True)"
   ]
  },
  {
   "cell_type": "code",
   "execution_count": 40,
   "metadata": {},
   "outputs": [
    {
     "data": {
      "text/plain": [
       "(164, 14)"
      ]
     },
     "execution_count": 40,
     "metadata": {},
     "output_type": "execute_result"
    }
   ],
   "source": [
    "### shape of dataset after droping Dataset\n",
    "Data.shape"
   ]
  },
  {
   "cell_type": "code",
   "execution_count": 41,
   "metadata": {},
   "outputs": [
    {
     "data": {
      "text/plain": [
       "age                          0\n",
       "sex                          0\n",
       "chest_pain_type              0\n",
       "resting_blood_pressure       0\n",
       "cholesterol                  0\n",
       "fasting_blood_sugar          0\n",
       "resting_electrocardiogram    0\n",
       "max_heart_rate_achieved      0\n",
       "exercise_induced_angina      0\n",
       "st_depression                0\n",
       "st_slope                     0\n",
       "num_major_vessels            0\n",
       "thalassemia                  0\n",
       "target                       0\n",
       "dtype: int64"
      ]
     },
     "execution_count": 41,
     "metadata": {},
     "output_type": "execute_result"
    }
   ],
   "source": [
    "### find NAN Value features\n",
    "\n",
    "Data.isnull().sum()"
   ]
  },
  {
   "cell_type": "code",
   "execution_count": 42,
   "metadata": {},
   "outputs": [
    {
     "name": "stdout",
     "output_type": "stream",
     "text": [
      "<class 'pandas.core.frame.DataFrame'>\n",
      "Int64Index: 164 entries, 5 to 733\n",
      "Data columns (total 14 columns):\n",
      " #   Column                     Non-Null Count  Dtype  \n",
      "---  ------                     --------------  -----  \n",
      " 0   age                        164 non-null    int64  \n",
      " 1   sex                        164 non-null    int64  \n",
      " 2   chest_pain_type            164 non-null    int64  \n",
      " 3   resting_blood_pressure     164 non-null    int64  \n",
      " 4   cholesterol                164 non-null    int64  \n",
      " 5   fasting_blood_sugar        164 non-null    int64  \n",
      " 6   resting_electrocardiogram  164 non-null    int64  \n",
      " 7   max_heart_rate_achieved    164 non-null    int64  \n",
      " 8   exercise_induced_angina    164 non-null    int64  \n",
      " 9   st_depression              164 non-null    float64\n",
      " 10  st_slope                   164 non-null    int64  \n",
      " 11  num_major_vessels          164 non-null    int64  \n",
      " 12  thalassemia                164 non-null    int64  \n",
      " 13  target                     164 non-null    int64  \n",
      "dtypes: float64(1), int64(13)\n",
      "memory usage: 19.2 KB\n"
     ]
    }
   ],
   "source": [
    "#### identify the features Datatypes\n",
    "Data.info()"
   ]
  },
  {
   "cell_type": "code",
   "execution_count": 43,
   "metadata": {},
   "outputs": [
    {
     "name": "stdout",
     "output_type": "stream",
     "text": [
      "age total Categories: 40\n",
      "sex total Categories: 2\n",
      "chest_pain_type total Categories: 4\n",
      "resting_blood_pressure total Categories: 39\n",
      "cholesterol total Categories: 104\n",
      "fasting_blood_sugar total Categories: 2\n",
      "resting_electrocardiogram total Categories: 3\n",
      "max_heart_rate_achieved total Categories: 67\n",
      "exercise_induced_angina total Categories: 2\n",
      "st_depression total Categories: 26\n",
      "st_slope total Categories: 3\n",
      "num_major_vessels total Categories: 5\n",
      "thalassemia total Categories: 4\n",
      "target total Categories: 1\n"
     ]
    }
   ],
   "source": [
    "#### how categories include eack features\n",
    "for feature in Data.columns:\n",
    "    print(f'{feature} total Categories: {len(Data[feature].unique())}')"
   ]
  },
  {
   "cell_type": "code",
   "execution_count": 44,
   "metadata": {},
   "outputs": [
    {
     "data": {
      "text/plain": [
       "['age',\n",
       " 'resting_blood_pressure',\n",
       " 'cholesterol',\n",
       " 'max_heart_rate_achieved',\n",
       " 'st_depression']"
      ]
     },
     "execution_count": 44,
     "metadata": {},
     "output_type": "execute_result"
    }
   ],
   "source": [
    "### Create a list only include >= categorical featires\n",
    "\n",
    "cat_features_grater_10 = [feature for feature in Data.columns if len(Data[feature].unique()) >= 10]\n",
    "cat_features_grater_10"
   ]
  },
  {
   "cell_type": "code",
   "execution_count": 46,
   "metadata": {},
   "outputs": [
    {
     "name": "stderr",
     "output_type": "stream",
     "text": [
      "/var/folders/8h/34w8609j6936zp6y_871bvk00000gn/T/ipykernel_4975/815468193.py:4: UserWarning: \n",
      "\n",
      "`distplot` is a deprecated function and will be removed in seaborn v0.14.0.\n",
      "\n",
      "Please adapt your code to use either `displot` (a figure-level function with\n",
      "similar flexibility) or `histplot` (an axes-level function for histograms).\n",
      "\n",
      "For a guide to updating your code to use the new functions, please see\n",
      "https://gist.github.com/mwaskom/de44147ed2974457ad6372750bbe5751\n",
      "\n",
      "  sns.distplot(Data[feature])\n"
     ]
    },
    {
     "data": {
      "image/png": "[encoded data removed]",
      "text/plain": [
       "<Figure size 640x480 with 1 Axes>"
      ]
     },
     "metadata": {},
     "output_type": "display_data"
    },
    {
     "name": "stderr",
     "output_type": "stream",
     "text": [
      "/var/folders/8h/34w8609j6936zp6y_871bvk00000gn/T/ipykernel_4975/815468193.py:4: UserWarning: \n",
      "\n",
      "`distplot` is a deprecated function and will be removed in seaborn v0.14.0.\n",
      "\n",
      "Please adapt your code to use either `displot` (a figure-level function with\n",
      "similar flexibility) or `histplot` (an axes-level function for histograms).\n",
      "\n",
      "For a guide to updating your code to use the new functions, please see\n",
      "https://gist.github.com/mwaskom/de44147ed2974457ad6372750bbe5751\n",
      "\n",
      "  sns.distplot(Data[feature])\n"
     ]
    },
    {
     "data": {
      "image/png": "[encoded data removed]",
      "text/plain": [
       "<Figure size 640x480 with 1 Axes>"
      ]
     },
     "metadata": {},
     "output_type": "display_data"
    },
    {
     "name": "stderr",
     "output_type": "stream",
     "text": [
      "/var/folders/8h/34w8609j6936zp6y_871bvk00000gn/T/ipykernel_4975/815468193.py:4: UserWarning: \n",
      "\n",
      "`distplot` is a deprecated function and will be removed in seaborn v0.14.0.\n",
      "\n",
      "Please adapt your code to use either `displot` (a figure-level function with\n",
      "similar flexibility) or `histplot` (an axes-level function for histograms).\n",
      "\n",
      "For a guide to updating your code to use the new functions, please see\n",
      "https://gist.github.com/mwaskom/de44147ed2974457ad6372750bbe5751\n",
      "\n",
      "  sns.distplot(Data[feature])\n"
     ]
    },
    {
     "data": {
      "image/png": "[encoded data removed]",
      "text/plain": [
       "<Figure size 640x480 with 1 Axes>"
      ]
     },
     "metadata": {},
     "output_type": "display_data"
    },
    {
     "name": "stderr",
     "output_type": "stream",
     "text": [
      "/var/folders/8h/34w8609j6936zp6y_871bvk00000gn/T/ipykernel_4975/815468193.py:4: UserWarning: \n",
      "\n",
      "`distplot` is a deprecated function and will be removed in seaborn v0.14.0.\n",
      "\n",
      "Please adapt your code to use either `displot` (a figure-level function with\n",
      "similar flexibility) or `histplot` (an axes-level function for histograms).\n",
      "\n",
      "For a guide to updating your code to use the new functions, please see\n",
      "https://gist.github.com/mwaskom/de44147ed2974457ad6372750bbe5751\n",
      "\n",
      "  sns.distplot(Data[feature])\n"
     ]
    },
    {
     "data": {
      "image/png": "[encoded data removed]",
      "text/plain": [
       "<Figure size 640x480 with 1 Axes>"
      ]
     },
     "metadata": {},
     "output_type": "display_data"
    },
    {
     "name": "stderr",
     "output_type": "stream",
     "text": [
      "/var/folders/8h/34w8609j6936zp6y_871bvk00000gn/T/ipykernel_4975/815468193.py:4: UserWarning: \n",
      "\n",
      "`distplot` is a deprecated function and will be removed in seaborn v0.14.0.\n",
      "\n",
      "Please adapt your code to use either `displot` (a figure-level function with\n",
      "similar flexibility) or `histplot` (an axes-level function for histograms).\n",
      "\n",
      "For a guide to updating your code to use the new functions, please see\n",
      "https://gist.github.com/mwaskom/de44147ed2974457ad6372750bbe5751\n",
      "\n",
      "  sns.distplot(Data[feature])\n"
     ]
    },
    {
     "data": {
      "image/png": "[encoded data removed]",
      "text/plain": [
       "<Figure size 640x480 with 1 Axes>"
      ]
     },
     "metadata": {},
     "output_type": "display_data"
    }
   ],
   "source": [
    "### Distribution plot\n",
    "\n",
    "for feature in cat_features_grater_10:\n",
    "    sns.distplot(Data[feature])\n",
    "    plt.title(feature)\n",
    "    plt.xlabel(feature)\n",
    "    plt.show()"
   ]
  },
  {
   "cell_type": "code",
   "execution_count": 51,
   "metadata": {},
   "outputs": [
    {
     "name": "stderr",
     "output_type": "stream",
     "text": [
      "/var/folders/8h/34w8609j6936zp6y_871bvk00000gn/T/ipykernel_4975/2595356723.py:3: SettingWithCopyWarning: \n",
      "A value is trying to be set on a copy of a slice from a DataFrame\n",
      "\n",
      "See the caveats in the documentation: https://pandas.pydata.org/pandas-docs/stable/user_guide/indexing.html#returning-a-view-versus-a-copy\n",
      "  Data['sex'][Data['sex'] == 0] = 'Female'\n",
      "/var/folders/8h/34w8609j6936zp6y_871bvk00000gn/T/ipykernel_4975/2595356723.py:6: SettingWithCopyWarning: \n",
      "A value is trying to be set on a copy of a slice from a DataFrame\n",
      "\n",
      "See the caveats in the documentation: https://pandas.pydata.org/pandas-docs/stable/user_guide/indexing.html#returning-a-view-versus-a-copy\n",
      "  Data['chest_pain_type'][Data['chest_pain_type'] == 0] = 'typical angina'\n",
      "/var/folders/8h/34w8609j6936zp6y_871bvk00000gn/T/ipykernel_4975/2595356723.py:11: SettingWithCopyWarning: \n",
      "A value is trying to be set on a copy of a slice from a DataFrame\n",
      "\n",
      "See the caveats in the documentation: https://pandas.pydata.org/pandas-docs/stable/user_guide/indexing.html#returning-a-view-versus-a-copy\n",
      "  Data['fasting_blood_sugar'][Data['fasting_blood_sugar'] == 0] = 'lower then 120mg/ml'\n",
      "/var/folders/8h/34w8609j6936zp6y_871bvk00000gn/T/ipykernel_4975/2595356723.py:14: SettingWithCopyWarning: \n",
      "A value is trying to be set on a copy of a slice from a DataFrame\n",
      "\n",
      "See the caveats in the documentation: https://pandas.pydata.org/pandas-docs/stable/user_guide/indexing.html#returning-a-view-versus-a-copy\n",
      "  Data['resting_electrocardiogram'][Data['resting_electrocardiogram'] == 0] = 'normal'\n",
      "/var/folders/8h/34w8609j6936zp6y_871bvk00000gn/T/ipykernel_4975/2595356723.py:18: SettingWithCopyWarning: \n",
      "A value is trying to be set on a copy of a slice from a DataFrame\n",
      "\n",
      "See the caveats in the documentation: https://pandas.pydata.org/pandas-docs/stable/user_guide/indexing.html#returning-a-view-versus-a-copy\n",
      "  Data['exercise_induced_angina'][Data['exercise_induced_angina'] == 0] = 'no'\n",
      "/var/folders/8h/34w8609j6936zp6y_871bvk00000gn/T/ipykernel_4975/2595356723.py:21: SettingWithCopyWarning: \n",
      "A value is trying to be set on a copy of a slice from a DataFrame\n",
      "\n",
      "See the caveats in the documentation: https://pandas.pydata.org/pandas-docs/stable/user_guide/indexing.html#returning-a-view-versus-a-copy\n",
      "  Data['st_slope'][Data['st_slope'] == 0] = 'upsloping'\n",
      "/var/folders/8h/34w8609j6936zp6y_871bvk00000gn/T/ipykernel_4975/2595356723.py:25: SettingWithCopyWarning: \n",
      "A value is trying to be set on a copy of a slice from a DataFrame\n",
      "\n",
      "See the caveats in the documentation: https://pandas.pydata.org/pandas-docs/stable/user_guide/indexing.html#returning-a-view-versus-a-copy\n",
      "  Data['thalassemia'][Data['thalassemia'] == 1] = 'fixed defect'\n"
     ]
    }
   ],
   "source": [
    "#### Convert features numarical values into string values\n",
    "\n",
    "Data['sex'][Data['sex'] == 0] = 'Female'\n",
    "Data['sex'][Data['sex'] == 1] = 'Male'\n",
    "\n",
    "Data['chest_pain_type'][Data['chest_pain_type'] == 0] = 'typical angina'\n",
    "Data['chest_pain_type'][Data['chest_pain_type'] == 1] = 'atypical angina'\n",
    "Data['chest_pain_type'][Data['chest_pain_type'] == 2] = 'non-anginal pain'\n",
    "Data['chest_pain_type'][Data['chest_pain_type'] == 3] = 'asymptomatic'\n",
    "\n",
    "Data['fasting_blood_sugar'][Data['fasting_blood_sugar'] == 0] = 'lower then 120mg/ml'\n",
    "Data['fasting_blood_sugar'][Data['fasting_blood_sugar'] == 1] = 'heigher then 120mg/ml'\n",
    "\n",
    "Data['resting_electrocardiogram'][Data['resting_electrocardiogram'] == 0] = 'normal'\n",
    "Data['resting_electrocardiogram'][Data['resting_electrocardiogram'] == 1] = 'ST-T wave abnormality'\n",
    "Data['resting_electrocardiogram'][Data['resting_electrocardiogram'] == 2] = 'left ventricular hypertrophy'\n",
    "\n",
    "Data['exercise_induced_angina'][Data['exercise_induced_angina'] == 0] = 'no'\n",
    "Data['exercise_induced_angina'][Data['exercise_induced_angina'] == 1] = 'yes'\n",
    "\n",
    "Data['st_slope'][Data['st_slope'] == 0] = 'upsloping'\n",
    "Data['st_slope'][Data['st_slope'] == 1] = 'flat'\n",
    "Data['st_slope'][Data['st_slope'] == 2] = 'downsloping'\n",
    "\n",
    "Data['thalassemia'][Data['thalassemia'] == 1] = 'fixed defect'\n",
    "Data['thalassemia'][Data['thalassemia'] == 2] = 'normal'\n",
    "Data['thalassemia'][Data['thalassemia'] == 3] = 'reversable defect'"
   ]
  },
  {
   "cell_type": "code",
   "execution_count": 52,
   "metadata": {},
   "outputs": [
    {
     "data": {
      "text/html": [
       "<div>\n",
       "<style scoped>\n",
       "    .dataframe tbody tr th:only-of-type {\n",
       "        vertical-align: middle;\n",
       "    }\n",
       "\n",
       "    .dataframe tbody tr th {\n",
       "        vertical-align: top;\n",
       "    }\n",
       "\n",
       "    .dataframe thead th {\n",
       "        text-align: right;\n",
       "    }\n",
       "</style>\n",
       "<table border=\"1\" class=\"dataframe\">\n",
       "  <thead>\n",
       "    <tr style=\"text-align: right;\">\n",
       "      <th></th>\n",
       "      <th>age</th>\n",
       "      <th>sex</th>\n",
       "      <th>chest_pain_type</th>\n",
       "      <th>resting_blood_pressure</th>\n",
       "      <th>cholesterol</th>\n",
       "      <th>fasting_blood_sugar</th>\n",
       "      <th>resting_electrocardiogram</th>\n",
       "      <th>max_heart_rate_achieved</th>\n",
       "      <th>exercise_induced_angina</th>\n",
       "      <th>st_depression</th>\n",
       "      <th>st_slope</th>\n",
       "      <th>num_major_vessels</th>\n",
       "      <th>thalassemia</th>\n",
       "      <th>target</th>\n",
       "    </tr>\n",
       "  </thead>\n",
       "  <tbody>\n",
       "    <tr>\n",
       "      <th>5</th>\n",
       "      <td>58</td>\n",
       "      <td>Female</td>\n",
       "      <td>typical angina</td>\n",
       "      <td>100</td>\n",
       "      <td>248</td>\n",
       "      <td>lower then 120mg/ml</td>\n",
       "      <td>normal</td>\n",
       "      <td>122</td>\n",
       "      <td>no</td>\n",
       "      <td>1.0</td>\n",
       "      <td>flat</td>\n",
       "      <td>0</td>\n",
       "      <td>normal</td>\n",
       "      <td>1</td>\n",
       "    </tr>\n",
       "    <tr>\n",
       "      <th>10</th>\n",
       "      <td>71</td>\n",
       "      <td>Female</td>\n",
       "      <td>typical angina</td>\n",
       "      <td>112</td>\n",
       "      <td>149</td>\n",
       "      <td>lower then 120mg/ml</td>\n",
       "      <td>ST-T wave abnormality</td>\n",
       "      <td>125</td>\n",
       "      <td>no</td>\n",
       "      <td>1.6</td>\n",
       "      <td>flat</td>\n",
       "      <td>0</td>\n",
       "      <td>normal</td>\n",
       "      <td>1</td>\n",
       "    </tr>\n",
       "    <tr>\n",
       "      <th>12</th>\n",
       "      <td>34</td>\n",
       "      <td>Female</td>\n",
       "      <td>atypical angina</td>\n",
       "      <td>118</td>\n",
       "      <td>210</td>\n",
       "      <td>lower then 120mg/ml</td>\n",
       "      <td>ST-T wave abnormality</td>\n",
       "      <td>192</td>\n",
       "      <td>no</td>\n",
       "      <td>0.7</td>\n",
       "      <td>downsloping</td>\n",
       "      <td>0</td>\n",
       "      <td>normal</td>\n",
       "      <td>1</td>\n",
       "    </tr>\n",
       "    <tr>\n",
       "      <th>16</th>\n",
       "      <td>51</td>\n",
       "      <td>Female</td>\n",
       "      <td>non-anginal pain</td>\n",
       "      <td>140</td>\n",
       "      <td>308</td>\n",
       "      <td>lower then 120mg/ml</td>\n",
       "      <td>normal</td>\n",
       "      <td>142</td>\n",
       "      <td>no</td>\n",
       "      <td>1.5</td>\n",
       "      <td>downsloping</td>\n",
       "      <td>1</td>\n",
       "      <td>normal</td>\n",
       "      <td>1</td>\n",
       "    </tr>\n",
       "    <tr>\n",
       "      <th>18</th>\n",
       "      <td>50</td>\n",
       "      <td>Female</td>\n",
       "      <td>atypical angina</td>\n",
       "      <td>120</td>\n",
       "      <td>244</td>\n",
       "      <td>lower then 120mg/ml</td>\n",
       "      <td>ST-T wave abnormality</td>\n",
       "      <td>162</td>\n",
       "      <td>no</td>\n",
       "      <td>1.1</td>\n",
       "      <td>downsloping</td>\n",
       "      <td>0</td>\n",
       "      <td>normal</td>\n",
       "      <td>1</td>\n",
       "    </tr>\n",
       "  </tbody>\n",
       "</table>\n",
       "</div>"
      ],
      "text/plain": [
       "    age     sex   chest_pain_type  resting_blood_pressure  cholesterol  \\\n",
       "5    58  Female    typical angina                     100          248   \n",
       "10   71  Female    typical angina                     112          149   \n",
       "12   34  Female   atypical angina                     118          210   \n",
       "16   51  Female  non-anginal pain                     140          308   \n",
       "18   50  Female   atypical angina                     120          244   \n",
       "\n",
       "    fasting_blood_sugar resting_electrocardiogram  max_heart_rate_achieved  \\\n",
       "5   lower then 120mg/ml                    normal                      122   \n",
       "10  lower then 120mg/ml     ST-T wave abnormality                      125   \n",
       "12  lower then 120mg/ml     ST-T wave abnormality                      192   \n",
       "16  lower then 120mg/ml                    normal                      142   \n",
       "18  lower then 120mg/ml     ST-T wave abnormality                      162   \n",
       "\n",
       "   exercise_induced_angina  st_depression     st_slope  num_major_vessels  \\\n",
       "5                       no            1.0         flat                  0   \n",
       "10                      no            1.6         flat                  0   \n",
       "12                      no            0.7  downsloping                  0   \n",
       "16                      no            1.5  downsloping                  1   \n",
       "18                      no            1.1  downsloping                  0   \n",
       "\n",
       "   thalassemia  target  \n",
       "5       normal       1  \n",
       "10      normal       1  \n",
       "12      normal       1  \n",
       "16      normal       1  \n",
       "18      normal       1  "
      ]
     },
     "execution_count": 52,
     "metadata": {},
     "output_type": "execute_result"
    }
   ],
   "source": [
    "Data.head()"
   ]
  },
  {
   "cell_type": "code",
   "execution_count": 56,
   "metadata": {},
   "outputs": [],
   "source": [
    "Data.to_csv('cleaned_data_1.csv', index= False)"
   ]
  },
  {
   "cell_type": "code",
   "execution_count": null,
   "metadata": {},
   "outputs": [],
   "source": []
  }
 ],
 "metadata": {
  "kernelspec": {
   "display_name": "base",
   "language": "python",
   "name": "python3"
  },
  "language_info": {
   "codemirror_mode": {
    "name": "ipython",
    "version": 3
   },
   "file_extension": ".py",
   "mimetype": "text/x-python",
   "name": "python",
   "nbconvert_exporter": "python",
   "pygments_lexer": "ipython3",
   "version": "3.11.5"
  }
 },
 "nbformat": 4,
 "nbformat_minor": 2
}
