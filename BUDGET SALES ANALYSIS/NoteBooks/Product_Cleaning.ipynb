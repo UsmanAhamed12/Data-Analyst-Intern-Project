{
 "cells": [
  {
   "cell_type": "markdown",
   "metadata": {},
   "source": [
    "## Product Dataset Cleaning"
   ]
  },
  {
   "cell_type": "code",
   "execution_count": 36,
   "metadata": {},
   "outputs": [],
   "source": [
    "### import libraries \n",
    "\n",
    "import pandas as pd \n",
    "import numpy as np \n",
    "import matplotlib.pyplot as plt \n",
    "import seaborn as sns\n",
    "\n",
    "pd.set_option('display.max_columns',None)"
   ]
  },
  {
   "cell_type": "code",
   "execution_count": 37,
   "metadata": {},
   "outputs": [
    {
     "data": {
      "text/html": [
       "<div>\n",
       "<style scoped>\n",
       "    .dataframe tbody tr th:only-of-type {\n",
       "        vertical-align: middle;\n",
       "    }\n",
       "\n",
       "    .dataframe tbody tr th {\n",
       "        vertical-align: top;\n",
       "    }\n",
       "\n",
       "    .dataframe thead th {\n",
       "        text-align: right;\n",
       "    }\n",
       "</style>\n",
       "<table border=\"1\" class=\"dataframe\">\n",
       "  <thead>\n",
       "    <tr style=\"text-align: right;\">\n",
       "      <th></th>\n",
       "      <th>ProductKey</th>\n",
       "      <th>ProductName</th>\n",
       "      <th>SubCategory</th>\n",
       "      <th>Category</th>\n",
       "      <th>StandardCost</th>\n",
       "      <th>Color</th>\n",
       "      <th>ListPrice</th>\n",
       "      <th>DaysToManufacture</th>\n",
       "      <th>ProductLine</th>\n",
       "      <th>ModelName</th>\n",
       "      <th>Photo</th>\n",
       "      <th>ProductDescription</th>\n",
       "      <th>StartDate</th>\n",
       "    </tr>\n",
       "  </thead>\n",
       "  <tbody>\n",
       "    <tr>\n",
       "      <th>0</th>\n",
       "      <td>1</td>\n",
       "      <td>Adjustable Race</td>\n",
       "      <td>NaN</td>\n",
       "      <td>NaN</td>\n",
       "      <td>NaN</td>\n",
       "      <td>NaN</td>\n",
       "      <td>NaN</td>\n",
       "      <td>0</td>\n",
       "      <td>NaN</td>\n",
       "      <td>NaN</td>\n",
       "      <td>http://www.avising.com/me/LearnPBI/DataSources...</td>\n",
       "      <td>NaN</td>\n",
       "      <td>1998-06-01</td>\n",
       "    </tr>\n",
       "    <tr>\n",
       "      <th>1</th>\n",
       "      <td>2</td>\n",
       "      <td>Bearing Ball</td>\n",
       "      <td>NaN</td>\n",
       "      <td>NaN</td>\n",
       "      <td>NaN</td>\n",
       "      <td>NaN</td>\n",
       "      <td>NaN</td>\n",
       "      <td>0</td>\n",
       "      <td>NaN</td>\n",
       "      <td>NaN</td>\n",
       "      <td>http://www.avising.com/me/LearnPBI/DataSources...</td>\n",
       "      <td>NaN</td>\n",
       "      <td>1998-06-01</td>\n",
       "    </tr>\n",
       "    <tr>\n",
       "      <th>2</th>\n",
       "      <td>3</td>\n",
       "      <td>BB Ball Bearing</td>\n",
       "      <td>NaN</td>\n",
       "      <td>NaN</td>\n",
       "      <td>NaN</td>\n",
       "      <td>NaN</td>\n",
       "      <td>NaN</td>\n",
       "      <td>1</td>\n",
       "      <td>NaN</td>\n",
       "      <td>NaN</td>\n",
       "      <td>http://www.avising.com/me/LearnPBI/DataSources...</td>\n",
       "      <td>NaN</td>\n",
       "      <td>1998-06-01</td>\n",
       "    </tr>\n",
       "    <tr>\n",
       "      <th>3</th>\n",
       "      <td>4</td>\n",
       "      <td>Headset Ball Bearings</td>\n",
       "      <td>NaN</td>\n",
       "      <td>NaN</td>\n",
       "      <td>NaN</td>\n",
       "      <td>NaN</td>\n",
       "      <td>NaN</td>\n",
       "      <td>0</td>\n",
       "      <td>NaN</td>\n",
       "      <td>NaN</td>\n",
       "      <td>http://www.avising.com/me/LearnPBI/DataSources...</td>\n",
       "      <td>NaN</td>\n",
       "      <td>1998-06-01</td>\n",
       "    </tr>\n",
       "    <tr>\n",
       "      <th>4</th>\n",
       "      <td>5</td>\n",
       "      <td>Blade</td>\n",
       "      <td>NaN</td>\n",
       "      <td>NaN</td>\n",
       "      <td>NaN</td>\n",
       "      <td>NaN</td>\n",
       "      <td>NaN</td>\n",
       "      <td>1</td>\n",
       "      <td>NaN</td>\n",
       "      <td>NaN</td>\n",
       "      <td>http://www.avising.com/me/LearnPBI/DataSources...</td>\n",
       "      <td>NaN</td>\n",
       "      <td>1998-06-01</td>\n",
       "    </tr>\n",
       "  </tbody>\n",
       "</table>\n",
       "</div>"
      ],
      "text/plain": [
       "   ProductKey            ProductName SubCategory Category  StandardCost Color  \\\n",
       "0           1        Adjustable Race         NaN      NaN           NaN   NaN   \n",
       "1           2           Bearing Ball         NaN      NaN           NaN   NaN   \n",
       "2           3        BB Ball Bearing         NaN      NaN           NaN   NaN   \n",
       "3           4  Headset Ball Bearings         NaN      NaN           NaN   NaN   \n",
       "4           5                  Blade         NaN      NaN           NaN   NaN   \n",
       "\n",
       "   ListPrice  DaysToManufacture ProductLine ModelName  \\\n",
       "0        NaN                  0         NaN       NaN   \n",
       "1        NaN                  0         NaN       NaN   \n",
       "2        NaN                  1         NaN       NaN   \n",
       "3        NaN                  0         NaN       NaN   \n",
       "4        NaN                  1         NaN       NaN   \n",
       "\n",
       "                                               Photo ProductDescription  \\\n",
       "0  http://www.avising.com/me/LearnPBI/DataSources...                NaN   \n",
       "1  http://www.avising.com/me/LearnPBI/DataSources...                NaN   \n",
       "2  http://www.avising.com/me/LearnPBI/DataSources...                NaN   \n",
       "3  http://www.avising.com/me/LearnPBI/DataSources...                NaN   \n",
       "4  http://www.avising.com/me/LearnPBI/DataSources...                NaN   \n",
       "\n",
       "   StartDate  \n",
       "0 1998-06-01  \n",
       "1 1998-06-01  \n",
       "2 1998-06-01  \n",
       "3 1998-06-01  \n",
       "4 1998-06-01  "
      ]
     },
     "execution_count": 37,
     "metadata": {},
     "output_type": "execute_result"
    }
   ],
   "source": [
    "### Import Calender Data set \n",
    "\n",
    "Data = pd.read_excel('/Users/inazawaelectronics/Desktop/Data-Analyst-Intern-Project/BUDGET SALES ANALYSIS/Data/AdventureWorks_Database.xlsx', sheet_name='Product')\n",
    "Data.head()"
   ]
  },
  {
   "cell_type": "code",
   "execution_count": 38,
   "metadata": {},
   "outputs": [
    {
     "data": {
      "text/plain": [
       "(606, 13)"
      ]
     },
     "execution_count": 38,
     "metadata": {},
     "output_type": "execute_result"
    }
   ],
   "source": [
    "### Identify the shape of the Dataset\n",
    "Data.shape"
   ]
  },
  {
   "cell_type": "code",
   "execution_count": 39,
   "metadata": {},
   "outputs": [
    {
     "data": {
      "text/plain": [
       "Index(['ProductKey', 'ProductName', 'SubCategory', 'Category', 'StandardCost',\n",
       "       'Color', 'ListPrice', 'DaysToManufacture', 'ProductLine', 'ModelName',\n",
       "       'Photo', 'ProductDescription', 'StartDate'],\n",
       "      dtype='object')"
      ]
     },
     "execution_count": 39,
     "metadata": {},
     "output_type": "execute_result"
    }
   ],
   "source": [
    "#### identify the dataset columns \n",
    "\n",
    "Data.columns"
   ]
  },
  {
   "cell_type": "code",
   "execution_count": 40,
   "metadata": {},
   "outputs": [
    {
     "data": {
      "text/html": [
       "<div>\n",
       "<style scoped>\n",
       "    .dataframe tbody tr th:only-of-type {\n",
       "        vertical-align: middle;\n",
       "    }\n",
       "\n",
       "    .dataframe tbody tr th {\n",
       "        vertical-align: top;\n",
       "    }\n",
       "\n",
       "    .dataframe thead th {\n",
       "        text-align: right;\n",
       "    }\n",
       "</style>\n",
       "<table border=\"1\" class=\"dataframe\">\n",
       "  <thead>\n",
       "    <tr style=\"text-align: right;\">\n",
       "      <th></th>\n",
       "      <th>ProductKey</th>\n",
       "      <th>ProductName</th>\n",
       "      <th>SubCategory</th>\n",
       "      <th>Category</th>\n",
       "      <th>StandardCost</th>\n",
       "      <th>Color</th>\n",
       "      <th>ListPrice</th>\n",
       "      <th>DaysToManufacture</th>\n",
       "      <th>ProductLine</th>\n",
       "      <th>ModelName</th>\n",
       "      <th>Photo</th>\n",
       "      <th>ProductDescription</th>\n",
       "      <th>StartDate</th>\n",
       "    </tr>\n",
       "  </thead>\n",
       "  <tbody>\n",
       "  </tbody>\n",
       "</table>\n",
       "</div>"
      ],
      "text/plain": [
       "Empty DataFrame\n",
       "Columns: [ProductKey, ProductName, SubCategory, Category, StandardCost, Color, ListPrice, DaysToManufacture, ProductLine, ModelName, Photo, ProductDescription, StartDate]\n",
       "Index: []"
      ]
     },
     "execution_count": 40,
     "metadata": {},
     "output_type": "execute_result"
    }
   ],
   "source": [
    "### find duplicate values\n",
    "\n",
    "Data[Data.duplicated()]"
   ]
  },
  {
   "cell_type": "markdown",
   "metadata": {},
   "source": [
    "#### No duplicate values in this dataset"
   ]
  },
  {
   "cell_type": "code",
   "execution_count": 41,
   "metadata": {},
   "outputs": [
    {
     "data": {
      "text/plain": [
       "ProductKey              0\n",
       "ProductName             0\n",
       "SubCategory           209\n",
       "Category              209\n",
       "StandardCost          211\n",
       "Color                 254\n",
       "ListPrice             211\n",
       "DaysToManufacture       0\n",
       "ProductLine           226\n",
       "ModelName             209\n",
       "Photo                   0\n",
       "ProductDescription    210\n",
       "StartDate               0\n",
       "dtype: int64"
      ]
     },
     "execution_count": 41,
     "metadata": {},
     "output_type": "execute_result"
    }
   ],
   "source": [
    "## find the NULL Values in this data set \n",
    "\n",
    "Data.isnull().sum()"
   ]
  },
  {
   "cell_type": "code",
   "execution_count": 42,
   "metadata": {},
   "outputs": [
    {
     "name": "stdout",
     "output_type": "stream",
     "text": [
      "ProductKey has unique labels 606\n",
      "ProductName has unique labels 504\n",
      "SubCategory has unique labels 38\n",
      "Category has unique labels 5\n",
      "StandardCost has unique labels 135\n",
      "Color has unique labels 10\n",
      "ListPrice has unique labels 121\n",
      "DaysToManufacture has unique labels 4\n",
      "ProductLine has unique labels 5\n",
      "ModelName has unique labels 120\n",
      "Photo has unique labels 606\n",
      "ProductDescription has unique labels 115\n",
      "StartDate has unique labels 4\n"
     ]
    }
   ],
   "source": [
    "for feature in Data.columns:\n",
    "    print(f'{feature} has unique labels {len(Data[feature].unique())}')"
   ]
  },
  {
   "cell_type": "code",
   "execution_count": 43,
   "metadata": {},
   "outputs": [],
   "source": [
    "### Let's Fill All the NAN Values with Mode\n",
    "\n",
    "for feature in Data.columns:\n",
    "    Data[feature].fillna(Data[feature].mode()[0], inplace= True)"
   ]
  },
  {
   "cell_type": "code",
   "execution_count": 44,
   "metadata": {},
   "outputs": [
    {
     "data": {
      "text/plain": [
       "ProductKey            0\n",
       "ProductName           0\n",
       "SubCategory           0\n",
       "Category              0\n",
       "StandardCost          0\n",
       "Color                 0\n",
       "ListPrice             0\n",
       "DaysToManufacture     0\n",
       "ProductLine           0\n",
       "ModelName             0\n",
       "Photo                 0\n",
       "ProductDescription    0\n",
       "StartDate             0\n",
       "dtype: int64"
      ]
     },
     "execution_count": 44,
     "metadata": {},
     "output_type": "execute_result"
    }
   ],
   "source": [
    "Data.isnull().sum()"
   ]
  },
  {
   "cell_type": "code",
   "execution_count": 45,
   "metadata": {},
   "outputs": [
    {
     "data": {
      "text/html": [
       "<div>\n",
       "<style scoped>\n",
       "    .dataframe tbody tr th:only-of-type {\n",
       "        vertical-align: middle;\n",
       "    }\n",
       "\n",
       "    .dataframe tbody tr th {\n",
       "        vertical-align: top;\n",
       "    }\n",
       "\n",
       "    .dataframe thead th {\n",
       "        text-align: right;\n",
       "    }\n",
       "</style>\n",
       "<table border=\"1\" class=\"dataframe\">\n",
       "  <thead>\n",
       "    <tr style=\"text-align: right;\">\n",
       "      <th></th>\n",
       "      <th>ProductKey</th>\n",
       "      <th>ProductName</th>\n",
       "      <th>SubCategory</th>\n",
       "      <th>Category</th>\n",
       "      <th>StandardCost</th>\n",
       "      <th>Color</th>\n",
       "      <th>ListPrice</th>\n",
       "      <th>DaysToManufacture</th>\n",
       "      <th>ProductLine</th>\n",
       "      <th>ModelName</th>\n",
       "      <th>Photo</th>\n",
       "      <th>ProductDescription</th>\n",
       "      <th>StartDate</th>\n",
       "    </tr>\n",
       "  </thead>\n",
       "  <tbody>\n",
       "    <tr>\n",
       "      <th>0</th>\n",
       "      <td>1</td>\n",
       "      <td>Adjustable Race</td>\n",
       "      <td>Road Frames</td>\n",
       "      <td>Components</td>\n",
       "      <td>413.1463</td>\n",
       "      <td>Black</td>\n",
       "      <td>306.5636</td>\n",
       "      <td>0</td>\n",
       "      <td>Road</td>\n",
       "      <td>LL Road Frame</td>\n",
       "      <td>http://www.avising.com/me/LearnPBI/DataSources...</td>\n",
       "      <td>The LL Frame provides a safe comfortable ride,...</td>\n",
       "      <td>1998-06-01</td>\n",
       "    </tr>\n",
       "    <tr>\n",
       "      <th>1</th>\n",
       "      <td>2</td>\n",
       "      <td>Bearing Ball</td>\n",
       "      <td>Road Frames</td>\n",
       "      <td>Components</td>\n",
       "      <td>413.1463</td>\n",
       "      <td>Black</td>\n",
       "      <td>306.5636</td>\n",
       "      <td>0</td>\n",
       "      <td>Road</td>\n",
       "      <td>LL Road Frame</td>\n",
       "      <td>http://www.avising.com/me/LearnPBI/DataSources...</td>\n",
       "      <td>The LL Frame provides a safe comfortable ride,...</td>\n",
       "      <td>1998-06-01</td>\n",
       "    </tr>\n",
       "    <tr>\n",
       "      <th>2</th>\n",
       "      <td>3</td>\n",
       "      <td>BB Ball Bearing</td>\n",
       "      <td>Road Frames</td>\n",
       "      <td>Components</td>\n",
       "      <td>413.1463</td>\n",
       "      <td>Black</td>\n",
       "      <td>306.5636</td>\n",
       "      <td>1</td>\n",
       "      <td>Road</td>\n",
       "      <td>LL Road Frame</td>\n",
       "      <td>http://www.avising.com/me/LearnPBI/DataSources...</td>\n",
       "      <td>The LL Frame provides a safe comfortable ride,...</td>\n",
       "      <td>1998-06-01</td>\n",
       "    </tr>\n",
       "    <tr>\n",
       "      <th>3</th>\n",
       "      <td>4</td>\n",
       "      <td>Headset Ball Bearings</td>\n",
       "      <td>Road Frames</td>\n",
       "      <td>Components</td>\n",
       "      <td>413.1463</td>\n",
       "      <td>Black</td>\n",
       "      <td>306.5636</td>\n",
       "      <td>0</td>\n",
       "      <td>Road</td>\n",
       "      <td>LL Road Frame</td>\n",
       "      <td>http://www.avising.com/me/LearnPBI/DataSources...</td>\n",
       "      <td>The LL Frame provides a safe comfortable ride,...</td>\n",
       "      <td>1998-06-01</td>\n",
       "    </tr>\n",
       "    <tr>\n",
       "      <th>4</th>\n",
       "      <td>5</td>\n",
       "      <td>Blade</td>\n",
       "      <td>Road Frames</td>\n",
       "      <td>Components</td>\n",
       "      <td>413.1463</td>\n",
       "      <td>Black</td>\n",
       "      <td>306.5636</td>\n",
       "      <td>1</td>\n",
       "      <td>Road</td>\n",
       "      <td>LL Road Frame</td>\n",
       "      <td>http://www.avising.com/me/LearnPBI/DataSources...</td>\n",
       "      <td>The LL Frame provides a safe comfortable ride,...</td>\n",
       "      <td>1998-06-01</td>\n",
       "    </tr>\n",
       "  </tbody>\n",
       "</table>\n",
       "</div>"
      ],
      "text/plain": [
       "   ProductKey            ProductName  SubCategory    Category  StandardCost  \\\n",
       "0           1        Adjustable Race  Road Frames  Components      413.1463   \n",
       "1           2           Bearing Ball  Road Frames  Components      413.1463   \n",
       "2           3        BB Ball Bearing  Road Frames  Components      413.1463   \n",
       "3           4  Headset Ball Bearings  Road Frames  Components      413.1463   \n",
       "4           5                  Blade  Road Frames  Components      413.1463   \n",
       "\n",
       "   Color  ListPrice  DaysToManufacture ProductLine      ModelName  \\\n",
       "0  Black   306.5636                  0        Road  LL Road Frame   \n",
       "1  Black   306.5636                  0        Road  LL Road Frame   \n",
       "2  Black   306.5636                  1        Road  LL Road Frame   \n",
       "3  Black   306.5636                  0        Road  LL Road Frame   \n",
       "4  Black   306.5636                  1        Road  LL Road Frame   \n",
       "\n",
       "                                               Photo  \\\n",
       "0  http://www.avising.com/me/LearnPBI/DataSources...   \n",
       "1  http://www.avising.com/me/LearnPBI/DataSources...   \n",
       "2  http://www.avising.com/me/LearnPBI/DataSources...   \n",
       "3  http://www.avising.com/me/LearnPBI/DataSources...   \n",
       "4  http://www.avising.com/me/LearnPBI/DataSources...   \n",
       "\n",
       "                                  ProductDescription  StartDate  \n",
       "0  The LL Frame provides a safe comfortable ride,... 1998-06-01  \n",
       "1  The LL Frame provides a safe comfortable ride,... 1998-06-01  \n",
       "2  The LL Frame provides a safe comfortable ride,... 1998-06-01  \n",
       "3  The LL Frame provides a safe comfortable ride,... 1998-06-01  \n",
       "4  The LL Frame provides a safe comfortable ride,... 1998-06-01  "
      ]
     },
     "execution_count": 45,
     "metadata": {},
     "output_type": "execute_result"
    }
   ],
   "source": [
    "Data.head()"
   ]
  },
  {
   "cell_type": "code",
   "execution_count": 46,
   "metadata": {},
   "outputs": [],
   "source": [
    "Data.to_excel('Product.xlsx', index= False)"
   ]
  }
 ],
 "metadata": {
  "kernelspec": {
   "display_name": "base",
   "language": "python",
   "name": "python3"
  },
  "language_info": {
   "codemirror_mode": {
    "name": "ipython",
    "version": 3
   },
   "file_extension": ".py",
   "mimetype": "text/x-python",
   "name": "python",
   "nbconvert_exporter": "python",
   "pygments_lexer": "ipython3",
   "version": "3.11.5"
  }
 },
 "nbformat": 4,
 "nbformat_minor": 2
}
