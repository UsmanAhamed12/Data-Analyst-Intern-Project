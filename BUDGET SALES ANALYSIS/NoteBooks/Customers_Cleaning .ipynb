{
 "cells": [
  {
   "cell_type": "markdown",
   "metadata": {},
   "source": [
    "## Customers Dataset Cleaning"
   ]
  },
  {
   "cell_type": "code",
   "execution_count": 1,
   "metadata": {},
   "outputs": [],
   "source": [
    "### import libraries \n",
    "\n",
    "import pandas as pd \n",
    "import numpy as np \n",
    "import matplotlib.pyplot as plt \n",
    "import seaborn as sns\n",
    "\n",
    "pd.set_option('display.max_columns',None)"
   ]
  },
  {
   "cell_type": "code",
   "execution_count": 2,
   "metadata": {},
   "outputs": [
    {
     "data": {
      "text/html": [
       "<div>\n",
       "<style scoped>\n",
       "    .dataframe tbody tr th:only-of-type {\n",
       "        vertical-align: middle;\n",
       "    }\n",
       "\n",
       "    .dataframe tbody tr th {\n",
       "        vertical-align: top;\n",
       "    }\n",
       "\n",
       "    .dataframe thead th {\n",
       "        text-align: right;\n",
       "    }\n",
       "</style>\n",
       "<table border=\"1\" class=\"dataframe\">\n",
       "  <thead>\n",
       "    <tr style=\"text-align: right;\">\n",
       "      <th></th>\n",
       "      <th>CustomerKey</th>\n",
       "      <th>FirstName</th>\n",
       "      <th>LastName</th>\n",
       "      <th>FullName</th>\n",
       "      <th>BirthDate</th>\n",
       "      <th>MaritalStatus</th>\n",
       "      <th>Gender</th>\n",
       "      <th>YearlyIncome</th>\n",
       "      <th>TotalChildren</th>\n",
       "      <th>NumberChildrenAtHome</th>\n",
       "      <th>Education</th>\n",
       "      <th>Occupation</th>\n",
       "      <th>HouseOwnerFlag</th>\n",
       "      <th>NumberCarsOwned</th>\n",
       "      <th>AddressLine1</th>\n",
       "      <th>DateFirstPurchase</th>\n",
       "      <th>CommuteDistance</th>\n",
       "    </tr>\n",
       "  </thead>\n",
       "  <tbody>\n",
       "    <tr>\n",
       "      <th>0</th>\n",
       "      <td>11000</td>\n",
       "      <td>Jon</td>\n",
       "      <td>Yang</td>\n",
       "      <td>Yang, Jon</td>\n",
       "      <td>1966-04-08</td>\n",
       "      <td>M</td>\n",
       "      <td>M</td>\n",
       "      <td>90000</td>\n",
       "      <td>2</td>\n",
       "      <td>0</td>\n",
       "      <td>Bachelors</td>\n",
       "      <td>Professional</td>\n",
       "      <td>1</td>\n",
       "      <td>0</td>\n",
       "      <td>3761 N. 14th St</td>\n",
       "      <td>2014-01-22</td>\n",
       "      <td>1-2 Miles</td>\n",
       "    </tr>\n",
       "    <tr>\n",
       "      <th>1</th>\n",
       "      <td>11001</td>\n",
       "      <td>Eugene</td>\n",
       "      <td>Huang</td>\n",
       "      <td>Huang, Eugene</td>\n",
       "      <td>1965-05-14</td>\n",
       "      <td>S</td>\n",
       "      <td>M</td>\n",
       "      <td>60000</td>\n",
       "      <td>3</td>\n",
       "      <td>3</td>\n",
       "      <td>Bachelors</td>\n",
       "      <td>Professional</td>\n",
       "      <td>0</td>\n",
       "      <td>1</td>\n",
       "      <td>2243 W St.</td>\n",
       "      <td>2014-01-18</td>\n",
       "      <td>0-1 Miles</td>\n",
       "    </tr>\n",
       "    <tr>\n",
       "      <th>2</th>\n",
       "      <td>11002</td>\n",
       "      <td>Ruben</td>\n",
       "      <td>Torres</td>\n",
       "      <td>Torres, Ruben</td>\n",
       "      <td>1965-08-12</td>\n",
       "      <td>M</td>\n",
       "      <td>M</td>\n",
       "      <td>60000</td>\n",
       "      <td>3</td>\n",
       "      <td>3</td>\n",
       "      <td>Bachelors</td>\n",
       "      <td>Professional</td>\n",
       "      <td>1</td>\n",
       "      <td>1</td>\n",
       "      <td>5844 Linden Land</td>\n",
       "      <td>2014-01-10</td>\n",
       "      <td>2-5 Miles</td>\n",
       "    </tr>\n",
       "    <tr>\n",
       "      <th>3</th>\n",
       "      <td>11003</td>\n",
       "      <td>Christy</td>\n",
       "      <td>Zhu</td>\n",
       "      <td>Zhu, Christy</td>\n",
       "      <td>1968-02-15</td>\n",
       "      <td>S</td>\n",
       "      <td>F</td>\n",
       "      <td>70000</td>\n",
       "      <td>0</td>\n",
       "      <td>0</td>\n",
       "      <td>Bachelors</td>\n",
       "      <td>Professional</td>\n",
       "      <td>0</td>\n",
       "      <td>1</td>\n",
       "      <td>1825 Village Pl.</td>\n",
       "      <td>2014-01-01</td>\n",
       "      <td>5-10 Miles</td>\n",
       "    </tr>\n",
       "    <tr>\n",
       "      <th>4</th>\n",
       "      <td>11004</td>\n",
       "      <td>Elizabeth</td>\n",
       "      <td>Johnson</td>\n",
       "      <td>Johnson, Elizabeth</td>\n",
       "      <td>1968-08-08</td>\n",
       "      <td>S</td>\n",
       "      <td>F</td>\n",
       "      <td>80000</td>\n",
       "      <td>5</td>\n",
       "      <td>5</td>\n",
       "      <td>Bachelors</td>\n",
       "      <td>Professional</td>\n",
       "      <td>1</td>\n",
       "      <td>4</td>\n",
       "      <td>7553 Harness Circle</td>\n",
       "      <td>2014-01-26</td>\n",
       "      <td>1-2 Miles</td>\n",
       "    </tr>\n",
       "  </tbody>\n",
       "</table>\n",
       "</div>"
      ],
      "text/plain": [
       "   CustomerKey  FirstName LastName            FullName  BirthDate  \\\n",
       "0        11000        Jon     Yang           Yang, Jon 1966-04-08   \n",
       "1        11001     Eugene    Huang       Huang, Eugene 1965-05-14   \n",
       "2        11002      Ruben   Torres       Torres, Ruben 1965-08-12   \n",
       "3        11003    Christy      Zhu        Zhu, Christy 1968-02-15   \n",
       "4        11004  Elizabeth  Johnson  Johnson, Elizabeth 1968-08-08   \n",
       "\n",
       "  MaritalStatus Gender  YearlyIncome  TotalChildren  NumberChildrenAtHome  \\\n",
       "0             M      M         90000              2                     0   \n",
       "1             S      M         60000              3                     3   \n",
       "2             M      M         60000              3                     3   \n",
       "3             S      F         70000              0                     0   \n",
       "4             S      F         80000              5                     5   \n",
       "\n",
       "   Education    Occupation  HouseOwnerFlag  NumberCarsOwned  \\\n",
       "0  Bachelors  Professional               1                0   \n",
       "1  Bachelors  Professional               0                1   \n",
       "2  Bachelors  Professional               1                1   \n",
       "3  Bachelors  Professional               0                1   \n",
       "4  Bachelors  Professional               1                4   \n",
       "\n",
       "          AddressLine1 DateFirstPurchase CommuteDistance  \n",
       "0      3761 N. 14th St        2014-01-22       1-2 Miles  \n",
       "1           2243 W St.        2014-01-18       0-1 Miles  \n",
       "2     5844 Linden Land        2014-01-10       2-5 Miles  \n",
       "3     1825 Village Pl.        2014-01-01      5-10 Miles  \n",
       "4  7553 Harness Circle        2014-01-26       1-2 Miles  "
      ]
     },
     "execution_count": 2,
     "metadata": {},
     "output_type": "execute_result"
    }
   ],
   "source": [
    "## import Customers Dataset\n",
    "\n",
    "Data = pd.read_excel('/Users/inazawaelectronics/Desktop/Data-Analyst-Intern-Project/BUDGET SALES ANALYSIS/Data/AdventureWorks_Database.xlsx', sheet_name='Customers')\n",
    "Data.head()"
   ]
  },
  {
   "cell_type": "code",
   "execution_count": 3,
   "metadata": {},
   "outputs": [
    {
     "data": {
      "text/plain": [
       "(18484, 17)"
      ]
     },
     "execution_count": 3,
     "metadata": {},
     "output_type": "execute_result"
    }
   ],
   "source": [
    "### Identify the shape of the Dataset\n",
    "Data.shape"
   ]
  },
  {
   "cell_type": "code",
   "execution_count": 4,
   "metadata": {},
   "outputs": [
    {
     "data": {
      "text/plain": [
       "Index(['CustomerKey', 'FirstName', 'LastName', 'FullName', 'BirthDate',\n",
       "       'MaritalStatus', 'Gender', 'YearlyIncome', 'TotalChildren',\n",
       "       'NumberChildrenAtHome', 'Education', 'Occupation', 'HouseOwnerFlag',\n",
       "       'NumberCarsOwned', 'AddressLine1', 'DateFirstPurchase',\n",
       "       'CommuteDistance'],\n",
       "      dtype='object')"
      ]
     },
     "execution_count": 4,
     "metadata": {},
     "output_type": "execute_result"
    }
   ],
   "source": [
    "#### identify the dataset columns \n",
    "\n",
    "Data.columns"
   ]
  },
  {
   "cell_type": "code",
   "execution_count": 5,
   "metadata": {},
   "outputs": [
    {
     "data": {
      "text/html": [
       "<div>\n",
       "<style scoped>\n",
       "    .dataframe tbody tr th:only-of-type {\n",
       "        vertical-align: middle;\n",
       "    }\n",
       "\n",
       "    .dataframe tbody tr th {\n",
       "        vertical-align: top;\n",
       "    }\n",
       "\n",
       "    .dataframe thead th {\n",
       "        text-align: right;\n",
       "    }\n",
       "</style>\n",
       "<table border=\"1\" class=\"dataframe\">\n",
       "  <thead>\n",
       "    <tr style=\"text-align: right;\">\n",
       "      <th></th>\n",
       "      <th>CustomerKey</th>\n",
       "      <th>FirstName</th>\n",
       "      <th>LastName</th>\n",
       "      <th>FullName</th>\n",
       "      <th>BirthDate</th>\n",
       "      <th>MaritalStatus</th>\n",
       "      <th>Gender</th>\n",
       "      <th>YearlyIncome</th>\n",
       "      <th>TotalChildren</th>\n",
       "      <th>NumberChildrenAtHome</th>\n",
       "      <th>Education</th>\n",
       "      <th>Occupation</th>\n",
       "      <th>HouseOwnerFlag</th>\n",
       "      <th>NumberCarsOwned</th>\n",
       "      <th>AddressLine1</th>\n",
       "      <th>DateFirstPurchase</th>\n",
       "      <th>CommuteDistance</th>\n",
       "    </tr>\n",
       "  </thead>\n",
       "  <tbody>\n",
       "  </tbody>\n",
       "</table>\n",
       "</div>"
      ],
      "text/plain": [
       "Empty DataFrame\n",
       "Columns: [CustomerKey, FirstName, LastName, FullName, BirthDate, MaritalStatus, Gender, YearlyIncome, TotalChildren, NumberChildrenAtHome, Education, Occupation, HouseOwnerFlag, NumberCarsOwned, AddressLine1, DateFirstPurchase, CommuteDistance]\n",
       "Index: []"
      ]
     },
     "execution_count": 5,
     "metadata": {},
     "output_type": "execute_result"
    }
   ],
   "source": [
    "### find duplicate values\n",
    "\n",
    "Data[Data.duplicated()]"
   ]
  },
  {
   "cell_type": "markdown",
   "metadata": {},
   "source": [
    "#### No duplicate values in this dataset"
   ]
  },
  {
   "cell_type": "code",
   "execution_count": 6,
   "metadata": {},
   "outputs": [
    {
     "data": {
      "text/plain": [
       "CustomerKey               0\n",
       "FirstName                 0\n",
       "LastName                  0\n",
       "FullName                  0\n",
       "BirthDate                 0\n",
       "MaritalStatus             0\n",
       "Gender                    0\n",
       "YearlyIncome              0\n",
       "TotalChildren             0\n",
       "NumberChildrenAtHome      0\n",
       "Education                 0\n",
       "Occupation                0\n",
       "HouseOwnerFlag            0\n",
       "NumberCarsOwned           0\n",
       "AddressLine1              0\n",
       "DateFirstPurchase       566\n",
       "CommuteDistance           0\n",
       "dtype: int64"
      ]
     },
     "execution_count": 6,
     "metadata": {},
     "output_type": "execute_result"
    }
   ],
   "source": [
    "## find the NULL Values in this data set \n",
    "\n",
    "Data.isnull().sum()"
   ]
  },
  {
   "cell_type": "code",
   "execution_count": 14,
   "metadata": {},
   "outputs": [],
   "source": [
    "# Group by relevant columns and fill missing dates with median of each group\n",
    "Data['DateFirstPurchase'] = Data.groupby(['Occupation', 'Education'])['DateFirstPurchase'].transform(\n",
    "    lambda x: x.fillna(x.median())\n",
    ")\n"
   ]
  },
  {
   "cell_type": "code",
   "execution_count": 16,
   "metadata": {},
   "outputs": [
    {
     "data": {
      "text/plain": [
       "2016-02-29    127\n",
       "2016-06-01    109\n",
       "2016-05-09     91\n",
       "2016-04-15     88\n",
       "2016-11-30     81\n",
       "             ... \n",
       "2014-11-29      1\n",
       "2014-04-25      1\n",
       "2014-02-17      1\n",
       "2014-08-21      1\n",
       "2015-05-04      1\n",
       "Name: DateFirstPurchase, Length: 1078, dtype: int64"
      ]
     },
     "execution_count": 16,
     "metadata": {},
     "output_type": "execute_result"
    }
   ],
   "source": [
    "Data['DateFirstPurchase'].value_counts().sort_values(ascending=False)"
   ]
  },
  {
   "cell_type": "code",
   "execution_count": 17,
   "metadata": {},
   "outputs": [
    {
     "data": {
      "text/plain": [
       "CustomerKey             0\n",
       "FirstName               0\n",
       "LastName                0\n",
       "FullName                0\n",
       "BirthDate               0\n",
       "MaritalStatus           0\n",
       "Gender                  0\n",
       "YearlyIncome            0\n",
       "TotalChildren           0\n",
       "NumberChildrenAtHome    0\n",
       "Education               0\n",
       "Occupation              0\n",
       "HouseOwnerFlag          0\n",
       "NumberCarsOwned         0\n",
       "AddressLine1            0\n",
       "DateFirstPurchase       0\n",
       "CommuteDistance         0\n",
       "dtype: int64"
      ]
     },
     "execution_count": 17,
     "metadata": {},
     "output_type": "execute_result"
    }
   ],
   "source": [
    "## Check null values after fill null values\n",
    "\n",
    "Data.isnull().sum()"
   ]
  },
  {
   "cell_type": "code",
   "execution_count": 18,
   "metadata": {},
   "outputs": [
    {
     "data": {
      "text/html": [
       "<div>\n",
       "<style scoped>\n",
       "    .dataframe tbody tr th:only-of-type {\n",
       "        vertical-align: middle;\n",
       "    }\n",
       "\n",
       "    .dataframe tbody tr th {\n",
       "        vertical-align: top;\n",
       "    }\n",
       "\n",
       "    .dataframe thead th {\n",
       "        text-align: right;\n",
       "    }\n",
       "</style>\n",
       "<table border=\"1\" class=\"dataframe\">\n",
       "  <thead>\n",
       "    <tr style=\"text-align: right;\">\n",
       "      <th></th>\n",
       "      <th>count</th>\n",
       "      <th>mean</th>\n",
       "      <th>std</th>\n",
       "      <th>min</th>\n",
       "      <th>25%</th>\n",
       "      <th>50%</th>\n",
       "      <th>75%</th>\n",
       "      <th>max</th>\n",
       "    </tr>\n",
       "  </thead>\n",
       "  <tbody>\n",
       "    <tr>\n",
       "      <th>CustomerKey</th>\n",
       "      <td>18484.0</td>\n",
       "      <td>20241.500000</td>\n",
       "      <td>5336.015523</td>\n",
       "      <td>11000.0</td>\n",
       "      <td>15620.75</td>\n",
       "      <td>20241.5</td>\n",
       "      <td>24862.25</td>\n",
       "      <td>29483.0</td>\n",
       "    </tr>\n",
       "    <tr>\n",
       "      <th>YearlyIncome</th>\n",
       "      <td>18484.0</td>\n",
       "      <td>57305.777970</td>\n",
       "      <td>32285.841703</td>\n",
       "      <td>10000.0</td>\n",
       "      <td>30000.00</td>\n",
       "      <td>60000.0</td>\n",
       "      <td>70000.00</td>\n",
       "      <td>170000.0</td>\n",
       "    </tr>\n",
       "    <tr>\n",
       "      <th>TotalChildren</th>\n",
       "      <td>18484.0</td>\n",
       "      <td>1.844352</td>\n",
       "      <td>1.612408</td>\n",
       "      <td>0.0</td>\n",
       "      <td>0.00</td>\n",
       "      <td>2.0</td>\n",
       "      <td>3.00</td>\n",
       "      <td>5.0</td>\n",
       "    </tr>\n",
       "    <tr>\n",
       "      <th>NumberChildrenAtHome</th>\n",
       "      <td>18484.0</td>\n",
       "      <td>1.004058</td>\n",
       "      <td>1.522660</td>\n",
       "      <td>0.0</td>\n",
       "      <td>0.00</td>\n",
       "      <td>0.0</td>\n",
       "      <td>2.00</td>\n",
       "      <td>5.0</td>\n",
       "    </tr>\n",
       "    <tr>\n",
       "      <th>HouseOwnerFlag</th>\n",
       "      <td>18484.0</td>\n",
       "      <td>0.676369</td>\n",
       "      <td>0.467874</td>\n",
       "      <td>0.0</td>\n",
       "      <td>0.00</td>\n",
       "      <td>1.0</td>\n",
       "      <td>1.00</td>\n",
       "      <td>1.0</td>\n",
       "    </tr>\n",
       "    <tr>\n",
       "      <th>NumberCarsOwned</th>\n",
       "      <td>18484.0</td>\n",
       "      <td>1.502705</td>\n",
       "      <td>1.138394</td>\n",
       "      <td>0.0</td>\n",
       "      <td>1.00</td>\n",
       "      <td>2.0</td>\n",
       "      <td>2.00</td>\n",
       "      <td>4.0</td>\n",
       "    </tr>\n",
       "  </tbody>\n",
       "</table>\n",
       "</div>"
      ],
      "text/plain": [
       "                        count          mean           std      min       25%  \\\n",
       "CustomerKey           18484.0  20241.500000   5336.015523  11000.0  15620.75   \n",
       "YearlyIncome          18484.0  57305.777970  32285.841703  10000.0  30000.00   \n",
       "TotalChildren         18484.0      1.844352      1.612408      0.0      0.00   \n",
       "NumberChildrenAtHome  18484.0      1.004058      1.522660      0.0      0.00   \n",
       "HouseOwnerFlag        18484.0      0.676369      0.467874      0.0      0.00   \n",
       "NumberCarsOwned       18484.0      1.502705      1.138394      0.0      1.00   \n",
       "\n",
       "                          50%       75%       max  \n",
       "CustomerKey           20241.5  24862.25   29483.0  \n",
       "YearlyIncome          60000.0  70000.00  170000.0  \n",
       "TotalChildren             2.0      3.00       5.0  \n",
       "NumberChildrenAtHome      0.0      2.00       5.0  \n",
       "HouseOwnerFlag            1.0      1.00       1.0  \n",
       "NumberCarsOwned           2.0      2.00       4.0  "
      ]
     },
     "execution_count": 18,
     "metadata": {},
     "output_type": "execute_result"
    }
   ],
   "source": [
    "Data.describe().T"
   ]
  },
  {
   "cell_type": "code",
   "execution_count": 19,
   "metadata": {},
   "outputs": [],
   "source": [
    "Data.to_excel('Customers.xlsx', index= False)"
   ]
  },
  {
   "cell_type": "code",
   "execution_count": null,
   "metadata": {},
   "outputs": [],
   "source": []
  }
 ],
 "metadata": {
  "kernelspec": {
   "display_name": "base",
   "language": "python",
   "name": "python3"
  },
  "language_info": {
   "codemirror_mode": {
    "name": "ipython",
    "version": 3
   },
   "file_extension": ".py",
   "mimetype": "text/x-python",
   "name": "python",
   "nbconvert_exporter": "python",
   "pygments_lexer": "ipython3",
   "version": "3.11.5"
  }
 },
 "nbformat": 4,
 "nbformat_minor": 2
}
