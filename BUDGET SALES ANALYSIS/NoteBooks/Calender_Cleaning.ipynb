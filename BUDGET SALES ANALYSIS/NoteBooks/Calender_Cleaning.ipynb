{
 "cells": [
  {
   "cell_type": "markdown",
   "metadata": {},
   "source": [
    "## Calender Dataset Cleaning"
   ]
  },
  {
   "cell_type": "code",
   "execution_count": 1,
   "metadata": {},
   "outputs": [],
   "source": [
    "### import libraries \n",
    "\n",
    "import pandas as pd \n",
    "import numpy as np \n",
    "import matplotlib.pyplot as plt \n",
    "import seaborn as sns\n",
    "\n",
    "pd.set_option('display.max_columns',None)"
   ]
  },
  {
   "cell_type": "code",
   "execution_count": 2,
   "metadata": {},
   "outputs": [
    {
     "data": {
      "text/html": [
       "<div>\n",
       "<style scoped>\n",
       "    .dataframe tbody tr th:only-of-type {\n",
       "        vertical-align: middle;\n",
       "    }\n",
       "\n",
       "    .dataframe tbody tr th {\n",
       "        vertical-align: top;\n",
       "    }\n",
       "\n",
       "    .dataframe thead th {\n",
       "        text-align: right;\n",
       "    }\n",
       "</style>\n",
       "<table border=\"1\" class=\"dataframe\">\n",
       "  <thead>\n",
       "    <tr style=\"text-align: right;\">\n",
       "      <th></th>\n",
       "      <th>Date</th>\n",
       "      <th>DateKey</th>\n",
       "      <th>Year</th>\n",
       "      <th>Quarter</th>\n",
       "      <th>MonthNum</th>\n",
       "      <th>Month</th>\n",
       "      <th>FiscalYear</th>\n",
       "      <th>FiscalQuarter</th>\n",
       "      <th>FiscalMonthNum</th>\n",
       "      <th>FiscalMonth</th>\n",
       "      <th>MonthYear</th>\n",
       "      <th>MonthYearLong</th>\n",
       "      <th>MonthYearNum</th>\n",
       "      <th>WeekdayNum</th>\n",
       "      <th>Weekday</th>\n",
       "      <th>WeekdayWeekend</th>\n",
       "    </tr>\n",
       "  </thead>\n",
       "  <tbody>\n",
       "    <tr>\n",
       "      <th>0</th>\n",
       "      <td>2016-04-03</td>\n",
       "      <td>20160403</td>\n",
       "      <td>2016</td>\n",
       "      <td>Q2</td>\n",
       "      <td>4</td>\n",
       "      <td>Apr</td>\n",
       "      <td>FY2016</td>\n",
       "      <td>FQ4</td>\n",
       "      <td>10</td>\n",
       "      <td>Apr</td>\n",
       "      <td>Apr-16</td>\n",
       "      <td>Apr-2016</td>\n",
       "      <td>201604</td>\n",
       "      <td>1</td>\n",
       "      <td>Sun</td>\n",
       "      <td>Weekend</td>\n",
       "    </tr>\n",
       "    <tr>\n",
       "      <th>1</th>\n",
       "      <td>2016-04-04</td>\n",
       "      <td>20160404</td>\n",
       "      <td>2016</td>\n",
       "      <td>Q2</td>\n",
       "      <td>4</td>\n",
       "      <td>Apr</td>\n",
       "      <td>FY2016</td>\n",
       "      <td>FQ4</td>\n",
       "      <td>10</td>\n",
       "      <td>Apr</td>\n",
       "      <td>Apr-16</td>\n",
       "      <td>Apr-2016</td>\n",
       "      <td>201604</td>\n",
       "      <td>2</td>\n",
       "      <td>Mon</td>\n",
       "      <td>Weekday</td>\n",
       "    </tr>\n",
       "    <tr>\n",
       "      <th>2</th>\n",
       "      <td>2016-04-05</td>\n",
       "      <td>20160405</td>\n",
       "      <td>2016</td>\n",
       "      <td>Q2</td>\n",
       "      <td>4</td>\n",
       "      <td>Apr</td>\n",
       "      <td>FY2016</td>\n",
       "      <td>FQ4</td>\n",
       "      <td>10</td>\n",
       "      <td>Apr</td>\n",
       "      <td>Apr-16</td>\n",
       "      <td>Apr-2016</td>\n",
       "      <td>201604</td>\n",
       "      <td>3</td>\n",
       "      <td>Tue</td>\n",
       "      <td>Weekday</td>\n",
       "    </tr>\n",
       "    <tr>\n",
       "      <th>3</th>\n",
       "      <td>2016-04-06</td>\n",
       "      <td>20160406</td>\n",
       "      <td>2016</td>\n",
       "      <td>Q2</td>\n",
       "      <td>4</td>\n",
       "      <td>Apr</td>\n",
       "      <td>FY2016</td>\n",
       "      <td>FQ4</td>\n",
       "      <td>10</td>\n",
       "      <td>Apr</td>\n",
       "      <td>Apr-16</td>\n",
       "      <td>Apr-2016</td>\n",
       "      <td>201604</td>\n",
       "      <td>4</td>\n",
       "      <td>Wed</td>\n",
       "      <td>Weekday</td>\n",
       "    </tr>\n",
       "    <tr>\n",
       "      <th>4</th>\n",
       "      <td>2016-04-07</td>\n",
       "      <td>20160407</td>\n",
       "      <td>2016</td>\n",
       "      <td>Q2</td>\n",
       "      <td>4</td>\n",
       "      <td>Apr</td>\n",
       "      <td>FY2016</td>\n",
       "      <td>FQ4</td>\n",
       "      <td>10</td>\n",
       "      <td>Apr</td>\n",
       "      <td>Apr-16</td>\n",
       "      <td>Apr-2016</td>\n",
       "      <td>201604</td>\n",
       "      <td>5</td>\n",
       "      <td>Thu</td>\n",
       "      <td>Weekday</td>\n",
       "    </tr>\n",
       "  </tbody>\n",
       "</table>\n",
       "</div>"
      ],
      "text/plain": [
       "        Date   DateKey  Year Quarter  MonthNum Month FiscalYear FiscalQuarter  \\\n",
       "0 2016-04-03  20160403  2016      Q2         4   Apr     FY2016           FQ4   \n",
       "1 2016-04-04  20160404  2016      Q2         4   Apr     FY2016           FQ4   \n",
       "2 2016-04-05  20160405  2016      Q2         4   Apr     FY2016           FQ4   \n",
       "3 2016-04-06  20160406  2016      Q2         4   Apr     FY2016           FQ4   \n",
       "4 2016-04-07  20160407  2016      Q2         4   Apr     FY2016           FQ4   \n",
       "\n",
       "   FiscalMonthNum FiscalMonth MonthYear MonthYearLong  MonthYearNum  \\\n",
       "0              10         Apr    Apr-16      Apr-2016        201604   \n",
       "1              10         Apr    Apr-16      Apr-2016        201604   \n",
       "2              10         Apr    Apr-16      Apr-2016        201604   \n",
       "3              10         Apr    Apr-16      Apr-2016        201604   \n",
       "4              10         Apr    Apr-16      Apr-2016        201604   \n",
       "\n",
       "   WeekdayNum Weekday WeekdayWeekend  \n",
       "0           1     Sun        Weekend  \n",
       "1           2     Mon        Weekday  \n",
       "2           3     Tue        Weekday  \n",
       "3           4     Wed        Weekday  \n",
       "4           5     Thu        Weekday  "
      ]
     },
     "execution_count": 2,
     "metadata": {},
     "output_type": "execute_result"
    }
   ],
   "source": [
    "### Import Calender Data set \n",
    "\n",
    "Data = pd.read_excel('/Users/inazawaelectronics/Desktop/Data-Analyst-Intern-Project/BUDGET SALES ANALYSIS/Data/AdventureWorks_Database.xlsx', sheet_name='Calender')\n",
    "Data.head()"
   ]
  },
  {
   "cell_type": "code",
   "execution_count": 3,
   "metadata": {},
   "outputs": [
    {
     "data": {
      "text/plain": [
       "(1461, 16)"
      ]
     },
     "execution_count": 3,
     "metadata": {},
     "output_type": "execute_result"
    }
   ],
   "source": [
    "### Identify the shape of the Dataset\n",
    "Data.shape"
   ]
  },
  {
   "cell_type": "code",
   "execution_count": 4,
   "metadata": {},
   "outputs": [
    {
     "data": {
      "text/plain": [
       "Index(['Date', 'DateKey', 'Year', 'Quarter', 'MonthNum', 'Month', 'FiscalYear',\n",
       "       'FiscalQuarter', 'FiscalMonthNum', 'FiscalMonth', 'MonthYear',\n",
       "       'MonthYearLong', 'MonthYearNum', 'WeekdayNum', 'Weekday',\n",
       "       'WeekdayWeekend'],\n",
       "      dtype='object')"
      ]
     },
     "execution_count": 4,
     "metadata": {},
     "output_type": "execute_result"
    }
   ],
   "source": [
    "#### identify the dataset columns \n",
    "\n",
    "Data.columns"
   ]
  },
  {
   "cell_type": "code",
   "execution_count": 5,
   "metadata": {},
   "outputs": [
    {
     "data": {
      "text/html": [
       "<div>\n",
       "<style scoped>\n",
       "    .dataframe tbody tr th:only-of-type {\n",
       "        vertical-align: middle;\n",
       "    }\n",
       "\n",
       "    .dataframe tbody tr th {\n",
       "        vertical-align: top;\n",
       "    }\n",
       "\n",
       "    .dataframe thead th {\n",
       "        text-align: right;\n",
       "    }\n",
       "</style>\n",
       "<table border=\"1\" class=\"dataframe\">\n",
       "  <thead>\n",
       "    <tr style=\"text-align: right;\">\n",
       "      <th></th>\n",
       "      <th>Date</th>\n",
       "      <th>DateKey</th>\n",
       "      <th>Year</th>\n",
       "      <th>Quarter</th>\n",
       "      <th>MonthNum</th>\n",
       "      <th>Month</th>\n",
       "      <th>FiscalYear</th>\n",
       "      <th>FiscalQuarter</th>\n",
       "      <th>FiscalMonthNum</th>\n",
       "      <th>FiscalMonth</th>\n",
       "      <th>MonthYear</th>\n",
       "      <th>MonthYearLong</th>\n",
       "      <th>MonthYearNum</th>\n",
       "      <th>WeekdayNum</th>\n",
       "      <th>Weekday</th>\n",
       "      <th>WeekdayWeekend</th>\n",
       "    </tr>\n",
       "  </thead>\n",
       "  <tbody>\n",
       "  </tbody>\n",
       "</table>\n",
       "</div>"
      ],
      "text/plain": [
       "Empty DataFrame\n",
       "Columns: [Date, DateKey, Year, Quarter, MonthNum, Month, FiscalYear, FiscalQuarter, FiscalMonthNum, FiscalMonth, MonthYear, MonthYearLong, MonthYearNum, WeekdayNum, Weekday, WeekdayWeekend]\n",
       "Index: []"
      ]
     },
     "execution_count": 5,
     "metadata": {},
     "output_type": "execute_result"
    }
   ],
   "source": [
    "### find duplicate values\n",
    "\n",
    "Data[Data.duplicated()]"
   ]
  },
  {
   "cell_type": "markdown",
   "metadata": {},
   "source": [
    "#### No duplicate values in this dataset"
   ]
  },
  {
   "cell_type": "code",
   "execution_count": 7,
   "metadata": {},
   "outputs": [
    {
     "data": {
      "text/plain": [
       "Date              0\n",
       "DateKey           0\n",
       "Year              0\n",
       "Quarter           0\n",
       "MonthNum          0\n",
       "Month             0\n",
       "FiscalYear        0\n",
       "FiscalQuarter     0\n",
       "FiscalMonthNum    0\n",
       "FiscalMonth       0\n",
       "MonthYear         0\n",
       "MonthYearLong     0\n",
       "MonthYearNum      0\n",
       "WeekdayNum        0\n",
       "Weekday           0\n",
       "WeekdayWeekend    0\n",
       "dtype: int64"
      ]
     },
     "execution_count": 7,
     "metadata": {},
     "output_type": "execute_result"
    }
   ],
   "source": [
    "## find the NULL Values in this data set \n",
    "\n",
    "Data.isnull().sum()"
   ]
  },
  {
   "cell_type": "markdown",
   "metadata": {},
   "source": [
    "#### No NAN Values in tis data set"
   ]
  },
  {
   "cell_type": "code",
   "execution_count": 8,
   "metadata": {},
   "outputs": [
    {
     "data": {
      "text/html": [
       "<div>\n",
       "<style scoped>\n",
       "    .dataframe tbody tr th:only-of-type {\n",
       "        vertical-align: middle;\n",
       "    }\n",
       "\n",
       "    .dataframe tbody tr th {\n",
       "        vertical-align: top;\n",
       "    }\n",
       "\n",
       "    .dataframe thead th {\n",
       "        text-align: right;\n",
       "    }\n",
       "</style>\n",
       "<table border=\"1\" class=\"dataframe\">\n",
       "  <thead>\n",
       "    <tr style=\"text-align: right;\">\n",
       "      <th></th>\n",
       "      <th>count</th>\n",
       "      <th>mean</th>\n",
       "      <th>std</th>\n",
       "      <th>min</th>\n",
       "      <th>25%</th>\n",
       "      <th>50%</th>\n",
       "      <th>75%</th>\n",
       "      <th>max</th>\n",
       "    </tr>\n",
       "  </thead>\n",
       "  <tbody>\n",
       "    <tr>\n",
       "      <th>DateKey</th>\n",
       "      <td>1461.0</td>\n",
       "      <td>2.015567e+07</td>\n",
       "      <td>11186.298001</td>\n",
       "      <td>20140101.0</td>\n",
       "      <td>20150101.0</td>\n",
       "      <td>20160101.0</td>\n",
       "      <td>20161231.0</td>\n",
       "      <td>20171231.0</td>\n",
       "    </tr>\n",
       "    <tr>\n",
       "      <th>Year</th>\n",
       "      <td>1461.0</td>\n",
       "      <td>2.015500e+03</td>\n",
       "      <td>1.118111</td>\n",
       "      <td>2014.0</td>\n",
       "      <td>2015.0</td>\n",
       "      <td>2016.0</td>\n",
       "      <td>2016.0</td>\n",
       "      <td>2017.0</td>\n",
       "    </tr>\n",
       "    <tr>\n",
       "      <th>MonthNum</th>\n",
       "      <td>1461.0</td>\n",
       "      <td>6.522930e+00</td>\n",
       "      <td>3.449884</td>\n",
       "      <td>1.0</td>\n",
       "      <td>4.0</td>\n",
       "      <td>7.0</td>\n",
       "      <td>10.0</td>\n",
       "      <td>12.0</td>\n",
       "    </tr>\n",
       "    <tr>\n",
       "      <th>FiscalMonthNum</th>\n",
       "      <td>1461.0</td>\n",
       "      <td>6.477755e+00</td>\n",
       "      <td>3.459999</td>\n",
       "      <td>1.0</td>\n",
       "      <td>3.0</td>\n",
       "      <td>6.0</td>\n",
       "      <td>9.0</td>\n",
       "      <td>12.0</td>\n",
       "    </tr>\n",
       "    <tr>\n",
       "      <th>MonthYearNum</th>\n",
       "      <td>1461.0</td>\n",
       "      <td>2.015566e+05</td>\n",
       "      <td>111.862876</td>\n",
       "      <td>201401.0</td>\n",
       "      <td>201501.0</td>\n",
       "      <td>201601.0</td>\n",
       "      <td>201612.0</td>\n",
       "      <td>201712.0</td>\n",
       "    </tr>\n",
       "    <tr>\n",
       "      <th>WeekdayNum</th>\n",
       "      <td>1461.0</td>\n",
       "      <td>4.002053e+00</td>\n",
       "      <td>2.001197</td>\n",
       "      <td>1.0</td>\n",
       "      <td>2.0</td>\n",
       "      <td>4.0</td>\n",
       "      <td>6.0</td>\n",
       "      <td>7.0</td>\n",
       "    </tr>\n",
       "  </tbody>\n",
       "</table>\n",
       "</div>"
      ],
      "text/plain": [
       "                 count          mean           std         min         25%  \\\n",
       "DateKey         1461.0  2.015567e+07  11186.298001  20140101.0  20150101.0   \n",
       "Year            1461.0  2.015500e+03      1.118111      2014.0      2015.0   \n",
       "MonthNum        1461.0  6.522930e+00      3.449884         1.0         4.0   \n",
       "FiscalMonthNum  1461.0  6.477755e+00      3.459999         1.0         3.0   \n",
       "MonthYearNum    1461.0  2.015566e+05    111.862876    201401.0    201501.0   \n",
       "WeekdayNum      1461.0  4.002053e+00      2.001197         1.0         2.0   \n",
       "\n",
       "                       50%         75%         max  \n",
       "DateKey         20160101.0  20161231.0  20171231.0  \n",
       "Year                2016.0      2016.0      2017.0  \n",
       "MonthNum               7.0        10.0        12.0  \n",
       "FiscalMonthNum         6.0         9.0        12.0  \n",
       "MonthYearNum      201601.0    201612.0    201712.0  \n",
       "WeekdayNum             4.0         6.0         7.0  "
      ]
     },
     "execution_count": 8,
     "metadata": {},
     "output_type": "execute_result"
    }
   ],
   "source": [
    "Data.describe().T"
   ]
  },
  {
   "cell_type": "code",
   "execution_count": 9,
   "metadata": {},
   "outputs": [],
   "source": [
    "Data.to_excel('Calender.xlsx', index= False)"
   ]
  }
 ],
 "metadata": {
  "kernelspec": {
   "display_name": "base",
   "language": "python",
   "name": "python3"
  },
  "language_info": {
   "codemirror_mode": {
    "name": "ipython",
    "version": 3
   },
   "file_extension": ".py",
   "mimetype": "text/x-python",
   "name": "python",
   "nbconvert_exporter": "python",
   "pygments_lexer": "ipython3",
   "version": "3.11.5"
  }
 },
 "nbformat": 4,
 "nbformat_minor": 2
}
